{
 "cells": [
  {
   "cell_type": "markdown",
   "metadata": {},
   "source": [
    "# Spark Basic\n",
    "Basic Spark CRUD operations\n",
    "RDD & Dataframe\n",
    "\n",
    "\n",
    "*** 14 June 2021: Good to demonstrate ***"
   ]
  },
  {
   "cell_type": "markdown",
   "metadata": {},
   "source": [
    "## Resilient Distributed Data RDD"
   ]
  },
  {
   "cell_type": "code",
   "execution_count": 1,
   "metadata": {},
   "outputs": [],
   "source": [
    "from pyspark import SparkContext, SparkConf, SQLContext\n",
    "from pyspark.sql import SparkSession\n",
    "from pyspark.sql.functions import desc\n",
    "from pyspark.sql.functions import col, max as max_\n",
    "from pyspark.sql.types import StructType, StructField, StringType, IntegerType, DoubleType\n",
    "import subprocess\n",
    "import datetime"
   ]
  },
  {
   "cell_type": "code",
   "execution_count": 2,
   "metadata": {},
   "outputs": [],
   "source": [
    "conf = SparkConf().setAppName('spark-basic')\n",
    "sc=SparkContext(conf=conf)\n"
   ]
  },
  {
   "cell_type": "code",
   "execution_count": 3,
   "metadata": {},
   "outputs": [],
   "source": [
    "# numSlices / number of partititions for the rdd is 2.\n",
    "num_rdd = sc.parallelize([1,2,3,4,5], 2)"
   ]
  },
  {
   "cell_type": "code",
   "execution_count": 4,
   "metadata": {},
   "outputs": [
    {
     "data": {
      "text/plain": [
       "pyspark.rdd.RDD"
      ]
     },
     "execution_count": 4,
     "metadata": {},
     "output_type": "execute_result"
    }
   ],
   "source": [
    "type(num_rdd)"
   ]
  },
  {
   "cell_type": "code",
<<<<<<< HEAD
   "execution_count": 10,
   "metadata": {},
   "outputs": [
    {
     "data": {
      "text/plain": [
       "['__add__',\n",
       " '__class__',\n",
       " '__delattr__',\n",
       " '__dict__',\n",
       " '__dir__',\n",
       " '__doc__',\n",
       " '__eq__',\n",
       " '__format__',\n",
       " '__ge__',\n",
       " '__getattribute__',\n",
       " '__getnewargs__',\n",
       " '__gt__',\n",
       " '__hash__',\n",
       " '__init__',\n",
       " '__init_subclass__',\n",
       " '__le__',\n",
       " '__lt__',\n",
       " '__module__',\n",
       " '__ne__',\n",
       " '__new__',\n",
       " '__reduce__',\n",
       " '__reduce_ex__',\n",
       " '__repr__',\n",
       " '__setattr__',\n",
       " '__sizeof__',\n",
       " '__str__',\n",
       " '__subclasshook__',\n",
       " '__weakref__',\n",
       " '_computeFractionForSampleSize',\n",
       " '_defaultReducePartitions',\n",
       " '_id',\n",
       " '_is_barrier',\n",
       " '_jrdd',\n",
       " '_jrdd_deserializer',\n",
       " '_memory_limit',\n",
       " '_pickled',\n",
       " '_reserialize',\n",
       " '_to_java_object_rdd',\n",
       " 'aggregate',\n",
       " 'aggregateByKey',\n",
       " 'barrier',\n",
       " 'cache',\n",
       " 'cartesian',\n",
       " 'checkpoint',\n",
       " 'coalesce',\n",
       " 'cogroup',\n",
       " 'collect',\n",
       " 'collectAsMap',\n",
       " 'combineByKey',\n",
       " 'context',\n",
       " 'count',\n",
       " 'countApprox',\n",
       " 'countApproxDistinct',\n",
       " 'countByKey',\n",
       " 'countByValue',\n",
       " 'ctx',\n",
       " 'distinct',\n",
       " 'filter',\n",
       " 'first',\n",
       " 'flatMap',\n",
       " 'flatMapValues',\n",
       " 'fold',\n",
       " 'foldByKey',\n",
       " 'foreach',\n",
       " 'foreachPartition',\n",
       " 'fullOuterJoin',\n",
       " 'getCheckpointFile',\n",
       " 'getNumPartitions',\n",
       " 'getStorageLevel',\n",
       " 'glom',\n",
       " 'groupBy',\n",
       " 'groupByKey',\n",
       " 'groupWith',\n",
       " 'histogram',\n",
       " 'id',\n",
       " 'intersection',\n",
       " 'isCheckpointed',\n",
       " 'isEmpty',\n",
       " 'isLocallyCheckpointed',\n",
       " 'is_cached',\n",
       " 'is_checkpointed',\n",
       " 'join',\n",
       " 'keyBy',\n",
       " 'keys',\n",
       " 'leftOuterJoin',\n",
       " 'localCheckpoint',\n",
       " 'lookup',\n",
       " 'map',\n",
       " 'mapPartitions',\n",
       " 'mapPartitionsWithIndex',\n",
       " 'mapPartitionsWithSplit',\n",
       " 'mapValues',\n",
       " 'max',\n",
       " 'mean',\n",
       " 'meanApprox',\n",
       " 'min',\n",
       " 'name',\n",
       " 'partitionBy',\n",
       " 'partitioner',\n",
       " 'persist',\n",
       " 'pipe',\n",
       " 'randomSplit',\n",
       " 'reduce',\n",
       " 'reduceByKey',\n",
       " 'reduceByKeyLocally',\n",
       " 'repartition',\n",
       " 'repartitionAndSortWithinPartitions',\n",
       " 'rightOuterJoin',\n",
       " 'sample',\n",
       " 'sampleByKey',\n",
       " 'sampleStdev',\n",
       " 'sampleVariance',\n",
       " 'saveAsHadoopDataset',\n",
       " 'saveAsHadoopFile',\n",
       " 'saveAsNewAPIHadoopDataset',\n",
       " 'saveAsNewAPIHadoopFile',\n",
       " 'saveAsPickleFile',\n",
       " 'saveAsSequenceFile',\n",
       " 'saveAsTextFile',\n",
       " 'setName',\n",
       " 'sortBy',\n",
       " 'sortByKey',\n",
       " 'stats',\n",
       " 'stdev',\n",
       " 'subtract',\n",
       " 'subtractByKey',\n",
       " 'sum',\n",
       " 'sumApprox',\n",
       " 'take',\n",
       " 'takeOrdered',\n",
       " 'takeSample',\n",
       " 'toDebugString',\n",
       " 'toLocalIterator',\n",
       " 'top',\n",
       " 'treeAggregate',\n",
       " 'treeReduce',\n",
       " 'union',\n",
       " 'unpersist',\n",
       " 'values',\n",
       " 'variance',\n",
       " 'zip',\n",
       " 'zipWithIndex',\n",
       " 'zipWithUniqueId']"
      ]
     },
     "execution_count": 10,
     "metadata": {},
     "output_type": "execute_result"
    }
   ],
   "source": [
    "dir(num_rdd)"
   ]
  },
  {
   "cell_type": "code",
=======
>>>>>>> 1b4d1aca249ad61bd70e607bd6e374ac879746f5
   "execution_count": 5,
   "metadata": {},
   "outputs": [
    {
     "data": {
      "text/plain": [
       "1"
      ]
     },
     "execution_count": 5,
     "metadata": {},
     "output_type": "execute_result"
    }
   ],
   "source": [
    "num_rdd.first()"
   ]
  },
  {
   "cell_type": "code",
   "execution_count": 6,
   "metadata": {},
   "outputs": [
    {
     "data": {
      "text/plain": [
<<<<<<< HEAD
       "[1, 4, 9, 16, 25]"
=======
       "[1, 2, 3, 4, 5]"
>>>>>>> 1b4d1aca249ad61bd70e607bd6e374ac879746f5
      ]
     },
     "execution_count": 6,
     "metadata": {},
     "output_type": "execute_result"
    }
   ],
<<<<<<< HEAD
=======
   "source": [
    "num_rdd.collect()"
   ]
  },
  {
   "cell_type": "code",
   "execution_count": 9,
   "metadata": {},
   "outputs": [
    {
     "data": {
      "text/plain": [
       "[1, 4, 9, 16, 25]"
      ]
     },
     "execution_count": 9,
     "metadata": {},
     "output_type": "execute_result"
    }
   ],
>>>>>>> 1b4d1aca249ad61bd70e607bd6e374ac879746f5
   "source": [
    "# mapper\n",
    "\n",
    "num_rdd.map(lambda x: x*x).collect()"
   ]
  },
  {
   "cell_type": "code",
<<<<<<< HEAD
   "execution_count": 8,
=======
   "execution_count": 10,
>>>>>>> 1b4d1aca249ad61bd70e607bd6e374ac879746f5
   "metadata": {},
   "outputs": [
    {
     "data": {
      "text/plain": [
       "55"
      ]
     },
<<<<<<< HEAD
     "execution_count": 8,
=======
     "execution_count": 10,
>>>>>>> 1b4d1aca249ad61bd70e607bd6e374ac879746f5
     "metadata": {},
     "output_type": "execute_result"
    }
   ],
   "source": [
    "# mapper & reducer\n",
    "\n",
    "num_rdd.map(lambda x: x*x).reduce(lambda a, b: a+b)"
   ]
  },
  {
   "cell_type": "code",
<<<<<<< HEAD
   "execution_count": 9,
=======
   "execution_count": 11,
>>>>>>> 1b4d1aca249ad61bd70e607bd6e374ac879746f5
   "metadata": {},
   "outputs": [],
   "source": [
    "# numSlices = 3\n",
    "num_rdd = sc.parallelize([1,2,3,4,5,6], 3)"
   ]
  },
  {
   "cell_type": "code",
<<<<<<< HEAD
   "execution_count": 11,
=======
   "execution_count": 12,
>>>>>>> 1b4d1aca249ad61bd70e607bd6e374ac879746f5
   "metadata": {},
   "outputs": [
    {
     "data": {
      "text/plain": [
       "[2, 4, 6]"
      ]
     },
<<<<<<< HEAD
     "execution_count": 11,
=======
     "execution_count": 12,
>>>>>>> 1b4d1aca249ad61bd70e607bd6e374ac879746f5
     "metadata": {},
     "output_type": "execute_result"
    }
   ],
   "source": [
    "# filter\n",
    "num_rdd.filter(lambda x: x % 2 == 0).collect()"
   ]
  },
  {
   "cell_type": "code",
<<<<<<< HEAD
   "execution_count": 12,
=======
   "execution_count": 13,
>>>>>>> 1b4d1aca249ad61bd70e607bd6e374ac879746f5
   "metadata": {},
   "outputs": [],
   "source": [
    "list_rdd = sc.parallelize(['Mathematics', 'Science', 'Mathematics', 'History', 'Biology', 'Science'], 2)"
   ]
  },
  {
   "cell_type": "code",
<<<<<<< HEAD
   "execution_count": 13,
=======
   "execution_count": 14,
>>>>>>> 1b4d1aca249ad61bd70e607bd6e374ac879746f5
   "metadata": {},
   "outputs": [
    {
     "data": {
      "text/plain": [
       "['Science', 'Mathematics', 'History', 'Biology']"
      ]
     },
<<<<<<< HEAD
     "execution_count": 13,
=======
     "execution_count": 14,
>>>>>>> 1b4d1aca249ad61bd70e607bd6e374ac879746f5
     "metadata": {},
     "output_type": "execute_result"
    }
   ],
   "source": [
    "# distinct\n",
    "list_rdd.distinct().collect()"
   ]
  },
  {
   "cell_type": "code",
   "execution_count": 15,
   "metadata": {},
   "outputs": [],
   "source": [
    "set_1 = sc.parallelize([1,2,3,4,5,6,7,8,9,10])\n",
    "set_2 = sc.parallelize([6,7,8,9,10,11,12,13,14,15,16,17,18,19,20])"
   ]
  },
  {
   "cell_type": "code",
   "execution_count": 16,
   "metadata": {},
   "outputs": [
    {
     "data": {
      "text/plain": [
       "[6, 7, 8, 9, 10]"
      ]
     },
     "execution_count": 16,
     "metadata": {},
     "output_type": "execute_result"
    }
   ],
   "source": [
    "# intersection\n",
    "set_1.intersection(set_2).collect()"
   ]
  },
  {
   "cell_type": "code",
<<<<<<< HEAD
   "execution_count": 18,
=======
   "execution_count": 17,
>>>>>>> 1b4d1aca249ad61bd70e607bd6e374ac879746f5
   "metadata": {},
   "outputs": [],
   "source": [
    "x = sc.parallelize([1,2,4,9,16,25])\n",
    "y = sc.parallelize([1,3,5,7,9,11,13])\n"
   ]
  },
  {
   "cell_type": "code",
<<<<<<< HEAD
   "execution_count": 19,
=======
   "execution_count": 18,
>>>>>>> 1b4d1aca249ad61bd70e607bd6e374ac879746f5
   "metadata": {},
   "outputs": [
    {
     "data": {
      "text/plain": [
       "[1, 2, 4, 9, 16, 25, 1, 3, 5, 7, 9, 11, 13]"
      ]
     },
<<<<<<< HEAD
     "execution_count": 19,
=======
     "execution_count": 18,
>>>>>>> 1b4d1aca249ad61bd70e607bd6e374ac879746f5
     "metadata": {},
     "output_type": "execute_result"
    }
   ],
   "source": [
    "# union\n",
    "x.union(y).collect()"
   ]
  },
  {
   "cell_type": "code",
<<<<<<< HEAD
   "execution_count": 20,
=======
   "execution_count": 19,
>>>>>>> 1b4d1aca249ad61bd70e607bd6e374ac879746f5
   "metadata": {},
   "outputs": [
    {
     "data": {
      "text/plain": [
       "[1, 25, 2, 3, 4, 5, 7, 9, 11, 13, 16]"
      ]
     },
<<<<<<< HEAD
     "execution_count": 20,
=======
     "execution_count": 19,
>>>>>>> 1b4d1aca249ad61bd70e607bd6e374ac879746f5
     "metadata": {},
     "output_type": "execute_result"
    }
   ],
   "source": [
    "# distinct & union\n",
    "x.union(y).distinct().collect()"
   ]
  },
  {
   "cell_type": "code",
<<<<<<< HEAD
   "execution_count": 21,
=======
   "execution_count": 20,
>>>>>>> 1b4d1aca249ad61bd70e607bd6e374ac879746f5
   "metadata": {},
   "outputs": [
    {
     "data": {
      "text/plain": [
       "[('Mathematics', 11),\n",
       " ('Science', 7),\n",
       " ('Mathematics', 11),\n",
       " ('History', 7),\n",
       " ('Biology', 7),\n",
       " ('Science', 7)]"
      ]
     },
<<<<<<< HEAD
     "execution_count": 21,
=======
     "execution_count": 20,
>>>>>>> 1b4d1aca249ad61bd70e607bd6e374ac879746f5
     "metadata": {},
     "output_type": "execute_result"
    }
   ],
   "source": [
    "# map & zip\n",
    "a = list_rdd.map(lambda x: len(x))\n",
    "list_rdd.zip(a).collect()"
   ]
  },
  {
   "cell_type": "code",
<<<<<<< HEAD
   "execution_count": 23,
=======
   "execution_count": 21,
>>>>>>> 1b4d1aca249ad61bd70e607bd6e374ac879746f5
   "metadata": {},
   "outputs": [
    {
     "data": {
      "text/plain": [
<<<<<<< HEAD
       "[1, 1, 2, 1, 2, 3, 1, 2, 3, 4, 1, 2, 3, 4, 5]"
      ]
     },
     "execution_count": 23,
=======
       "[1, 1, 2, 1, 2, 3, 1, 2, 3, 4, 1, 2, 3, 4, 5, 1, 2, 3, 4, 5, 6]"
      ]
     },
     "execution_count": 21,
>>>>>>> 1b4d1aca249ad61bd70e607bd6e374ac879746f5
     "metadata": {},
     "output_type": "execute_result"
    }
   ],
   "source": [
    "# flatMap\n",
    "num_rdd = sc.parallelize([1,2,3,4,5,6], 3)\n",
    "num_rdd.flatMap(lambda x: range(1, x+1)).collect()"
   ]
  },
  {
   "cell_type": "code",
<<<<<<< HEAD
   "execution_count": 24,
=======
   "execution_count": 22,
>>>>>>> 1b4d1aca249ad61bd70e607bd6e374ac879746f5
   "metadata": {},
   "outputs": [
    {
     "data": {
      "text/plain": [
       "[10, 10, 10, 15, 15, 15, 20, 20, 20]"
      ]
     },
<<<<<<< HEAD
     "execution_count": 24,
=======
     "execution_count": 22,
>>>>>>> 1b4d1aca249ad61bd70e607bd6e374ac879746f5
     "metadata": {},
     "output_type": "execute_result"
    }
   ],
   "source": [
    "num_rdd = sc.parallelize([10, 15, 20], 2)\n",
    "num_rdd.flatMap(lambda x: [x, x, x]).collect()"
   ]
  },
  {
   "cell_type": "code",
<<<<<<< HEAD
   "execution_count": 25,
=======
   "execution_count": 24,
>>>>>>> 1b4d1aca249ad61bd70e607bd6e374ac879746f5
   "metadata": {},
   "outputs": [
    {
     "data": {
      "text/plain": [
       "[11, 7, 11, 7, 7, 7]"
      ]
     },
<<<<<<< HEAD
     "execution_count": 25,
=======
     "execution_count": 24,
>>>>>>> 1b4d1aca249ad61bd70e607bd6e374ac879746f5
     "metadata": {},
     "output_type": "execute_result"
    }
   ],
   "source": [
    "# keys\n",
    "a = list_rdd.map(lambda x: (len(x), x))\n",
    "a.collect()\n",
    "a.keys().collect()\n"
   ]
  },
  {
   "cell_type": "code",
<<<<<<< HEAD
   "execution_count": 26,
=======
   "execution_count": 25,
>>>>>>> 1b4d1aca249ad61bd70e607bd6e374ac879746f5
   "metadata": {},
   "outputs": [
    {
     "data": {
      "text/plain": [
       "[(1, 7), (1, 9), (1, 11), (2, 7), (2, 9), (2, 11), (4, 7), (4, 9), (4, 11)]"
      ]
     },
<<<<<<< HEAD
     "execution_count": 26,
=======
     "execution_count": 25,
>>>>>>> 1b4d1aca249ad61bd70e607bd6e374ac879746f5
     "metadata": {},
     "output_type": "execute_result"
    }
   ],
   "source": [
    "# cartesian\n",
    "x = sc.parallelize([1,2,4])\n",
    "y = sc.parallelize([7,9,11])\n",
    "x.cartesian(y).collect()"
   ]
  },
  {
   "cell_type": "code",
<<<<<<< HEAD
   "execution_count": 28,
=======
   "execution_count": 27,
>>>>>>> 1b4d1aca249ad61bd70e607bd6e374ac879746f5
   "metadata": {},
   "outputs": [
    {
     "name": "stdout",
     "output_type": "stream",
     "text": [
<<<<<<< HEAD
=======
      "11\n",
      "Mathematics\n",
      "Mathematics\n",
>>>>>>> 1b4d1aca249ad61bd70e607bd6e374ac879746f5
      "7\n",
      "Science\n",
      "History\n",
      "Biology\n",
<<<<<<< HEAD
      "11\n",
      "Mathematics\n"
     ]
=======
      "Science\n"
     ]
    },
    {
     "data": {
      "text/plain": [
       "[(11, <pyspark.resultiterable.ResultIterable at 0x7f92b3aa34e0>),\n",
       " (7, <pyspark.resultiterable.ResultIterable at 0x7f92b3aa3748>)]"
      ]
     },
     "execution_count": 27,
     "metadata": {},
     "output_type": "execute_result"
>>>>>>> 1b4d1aca249ad61bd70e607bd6e374ac879746f5
    }
   ],
   "source": [
    "# groupBy\n",
    "a = list_rdd.groupBy(lambda x: len(x)).collect()\n",
    "for (x, y) in a:\n",
    "    print (x)\n",
    "    for i in y:\n",
    "        print (i)\n",
    "a        "
   ]
  },
  {
   "cell_type": "code",
<<<<<<< HEAD
   "execution_count": 29,
=======
   "execution_count": 23,
>>>>>>> 1b4d1aca249ad61bd70e607bd6e374ac879746f5
   "metadata": {},
   "outputs": [
    {
     "data": {
      "text/plain": [
<<<<<<< HEAD
       "[(7, ['Biology', 'History', 'Science']), (11, ['Mathematics'])]"
      ]
     },
     "execution_count": 29,
=======
       "[(7, ['Biology', 'History', 'Science', 'Science']),\n",
       " (11, ['Mathematics', 'Mathematics'])]"
      ]
     },
     "execution_count": 23,
>>>>>>> 1b4d1aca249ad61bd70e607bd6e374ac879746f5
     "metadata": {},
     "output_type": "execute_result"
    }
   ],
   "source": [
    "sorted([(x,sorted(y)) for(x,y) in a])"
   ]
  },
  {
   "cell_type": "code",
<<<<<<< HEAD
   "execution_count": 30,
=======
   "execution_count": 29,
>>>>>>> 1b4d1aca249ad61bd70e607bd6e374ac879746f5
   "metadata": {},
   "outputs": [
    {
     "data": {
      "text/plain": [
       "[(4, 'blue'), (5, 'green'), (6, 'orange')]"
      ]
     },
<<<<<<< HEAD
     "execution_count": 30,
=======
     "execution_count": 29,
>>>>>>> 1b4d1aca249ad61bd70e607bd6e374ac879746f5
     "metadata": {},
     "output_type": "execute_result"
    }
   ],
   "source": [
    "# keyBy\n",
    "a = sc.parallelize(['blue', 'green', 'orange'])\n",
    "b = sc.parallelize(['black', 'white', 'grey'])\n",
    "c = a.keyBy(lambda x: len(x))\n",
    "c.collect()"
   ]
  },
  {
   "cell_type": "code",
<<<<<<< HEAD
   "execution_count": 31,
=======
   "execution_count": 30,
>>>>>>> 1b4d1aca249ad61bd70e607bd6e374ac879746f5
   "metadata": {},
   "outputs": [
    {
     "data": {
      "text/plain": [
       "[(5, 'black'), (5, 'white'), (4, 'grey')]"
      ]
     },
<<<<<<< HEAD
     "execution_count": 31,
=======
     "execution_count": 30,
>>>>>>> 1b4d1aca249ad61bd70e607bd6e374ac879746f5
     "metadata": {},
     "output_type": "execute_result"
    }
   ],
   "source": [
    "d = b.keyBy(lambda x: len(x))\n",
    "d.collect()"
   ]
  },
  {
   "cell_type": "code",
<<<<<<< HEAD
   "execution_count": 32,
=======
   "execution_count": 31,
>>>>>>> 1b4d1aca249ad61bd70e607bd6e374ac879746f5
   "metadata": {},
   "outputs": [
    {
     "data": {
      "text/plain": [
       "[(4, ('blue', 'grey')), (5, ('green', 'black')), (5, ('green', 'white'))]"
      ]
     },
<<<<<<< HEAD
     "execution_count": 32,
=======
     "execution_count": 31,
>>>>>>> 1b4d1aca249ad61bd70e607bd6e374ac879746f5
     "metadata": {},
     "output_type": "execute_result"
    }
   ],
   "source": [
    "c.join(d).collect()"
   ]
  },
  {
   "cell_type": "code",
<<<<<<< HEAD
   "execution_count": 33,
=======
   "execution_count": 32,
>>>>>>> 1b4d1aca249ad61bd70e607bd6e374ac879746f5
   "metadata": {},
   "outputs": [
    {
     "data": {
      "text/plain": [
       "[(4, ('blue', 'grey')),\n",
       " (5, ('green', 'black')),\n",
       " (5, ('green', 'white')),\n",
       " (6, ('orange', None))]"
      ]
     },
<<<<<<< HEAD
     "execution_count": 33,
=======
     "execution_count": 32,
>>>>>>> 1b4d1aca249ad61bd70e607bd6e374ac879746f5
     "metadata": {},
     "output_type": "execute_result"
    }
   ],
   "source": [
    "# leftOuterJoin -- include the left of the operation, this case is c object\n",
    "c.leftOuterJoin(d).collect()"
   ]
  },
  {
   "cell_type": "code",
<<<<<<< HEAD
   "execution_count": 34,
=======
   "execution_count": 33,
>>>>>>> 1b4d1aca249ad61bd70e607bd6e374ac879746f5
   "metadata": {},
   "outputs": [
    {
     "data": {
      "text/plain": [
       "[(4, ('blue', 'grey')), (5, ('green', 'black')), (5, ('green', 'white'))]"
      ]
     },
<<<<<<< HEAD
     "execution_count": 34,
=======
     "execution_count": 33,
>>>>>>> 1b4d1aca249ad61bd70e607bd6e374ac879746f5
     "metadata": {},
     "output_type": "execute_result"
    }
   ],
   "source": [
    "# rightOuterJoin -- include the right of the operation, this case is d object\n",
    "c.rightOuterJoin(d).collect()"
   ]
  },
  {
   "cell_type": "code",
<<<<<<< HEAD
   "execution_count": 35,
=======
   "execution_count": 34,
>>>>>>> 1b4d1aca249ad61bd70e607bd6e374ac879746f5
   "metadata": {},
   "outputs": [
    {
     "data": {
      "text/plain": [
       "[(4, ('blue', 'grey')),\n",
       " (5, ('green', 'black')),\n",
       " (5, ('green', 'white')),\n",
       " (6, ('orange', None))]"
      ]
     },
<<<<<<< HEAD
     "execution_count": 35,
=======
     "execution_count": 34,
>>>>>>> 1b4d1aca249ad61bd70e607bd6e374ac879746f5
     "metadata": {},
     "output_type": "execute_result"
    }
   ],
   "source": [
    "# fullOuterJoin -- include both left & right of the operation, this case c & d objects\n",
    "c.fullOuterJoin(d).collect()"
   ]
  },
  {
   "cell_type": "code",
<<<<<<< HEAD
   "execution_count": 36,
=======
   "execution_count": 35,
>>>>>>> 1b4d1aca249ad61bd70e607bd6e374ac879746f5
   "metadata": {},
   "outputs": [
    {
     "data": {
      "text/plain": [
       "['blue', 'green', 'orange', 'black', 'white', 'grey']"
      ]
     },
<<<<<<< HEAD
     "execution_count": 36,
=======
     "execution_count": 35,
>>>>>>> 1b4d1aca249ad61bd70e607bd6e374ac879746f5
     "metadata": {},
     "output_type": "execute_result"
    }
   ],
   "source": [
    "# reduceByKey\n",
    "f = a.union(b)\n",
    "f.collect()"
   ]
  },
  {
   "cell_type": "code",
<<<<<<< HEAD
   "execution_count": 37,
=======
   "execution_count": 36,
>>>>>>> 1b4d1aca249ad61bd70e607bd6e374ac879746f5
   "metadata": {},
   "outputs": [
    {
     "data": {
      "text/plain": [
       "[(4, 'blue'),\n",
       " (5, 'green'),\n",
       " (6, 'orange'),\n",
       " (5, 'black'),\n",
       " (5, 'white'),\n",
       " (4, 'grey')]"
      ]
     },
<<<<<<< HEAD
     "execution_count": 37,
=======
     "execution_count": 36,
>>>>>>> 1b4d1aca249ad61bd70e607bd6e374ac879746f5
     "metadata": {},
     "output_type": "execute_result"
    }
   ],
   "source": [
    "g = f.map(lambda x: (len(x), x))\n",
    "g.collect()"
   ]
  },
  {
   "cell_type": "code",
   "execution_count": 38,
   "metadata": {},
   "outputs": [
    {
     "data": {
      "text/plain": [
       "[(4, 'blue/grey'), (5, 'green/black/white'), (6, 'orange')]"
      ]
     },
     "execution_count": 38,
     "metadata": {},
     "output_type": "execute_result"
    }
   ],
   "source": [
    "h = g.reduceByKey(lambda x, y: x + '/' + y)\n",
    "h.collect()"
   ]
  },
  {
   "cell_type": "code",
   "execution_count": 39,
   "metadata": {},
   "outputs": [
    {
     "data": {
      "text/plain": [
       "3"
      ]
     },
     "execution_count": 39,
     "metadata": {},
     "output_type": "execute_result"
    }
   ],
   "source": [
    "h.count()"
   ]
  },
  {
   "cell_type": "code",
   "execution_count": 40,
   "metadata": {},
   "outputs": [
    {
     "data": {
      "text/plain": [
       "[(4, 'blue/grey'), (5, 'green/black/white')]"
      ]
     },
     "execution_count": 40,
     "metadata": {},
     "output_type": "execute_result"
    }
   ],
   "source": [
    "h.take(2)"
   ]
  },
  {
   "cell_type": "code",
   "execution_count": 41,
   "metadata": {},
   "outputs": [
    {
     "data": {
      "text/plain": [
       "(4, 'blue/grey')"
      ]
     },
     "execution_count": 41,
     "metadata": {},
     "output_type": "execute_result"
    }
   ],
   "source": [
    "h.first()"
   ]
  },
  {
   "cell_type": "code",
<<<<<<< HEAD
   "execution_count": 42,
=======
   "execution_count": 43,
>>>>>>> 1b4d1aca249ad61bd70e607bd6e374ac879746f5
   "metadata": {},
   "outputs": [],
   "source": [
    "# takeSample (withReplacement, num, [seed])\n",
    "num_rdd = sc.parallelize([10, 4, 5, 3, 11, 2, 6])"
   ]
  },
  {
   "cell_type": "code",
<<<<<<< HEAD
   "execution_count": 46,
=======
   "execution_count": 45,
>>>>>>> 1b4d1aca249ad61bd70e607bd6e374ac879746f5
   "metadata": {},
   "outputs": [
    {
     "data": {
      "text/plain": [
<<<<<<< HEAD
       "[5, 10, 2]"
      ]
     },
     "execution_count": 46,
=======
       "[2, 6, 3]"
      ]
     },
     "execution_count": 45,
>>>>>>> 1b4d1aca249ad61bd70e607bd6e374ac879746f5
     "metadata": {},
     "output_type": "execute_result"
    }
   ],
   "source": [
    "num_rdd.takeSample(False, 3)"
   ]
  },
  {
   "cell_type": "code",
<<<<<<< HEAD
   "execution_count": 48,
=======
   "execution_count": 49,
>>>>>>> 1b4d1aca249ad61bd70e607bd6e374ac879746f5
   "metadata": {},
   "outputs": [
    {
     "data": {
      "text/plain": [
<<<<<<< HEAD
       "[4, 2, 2]"
      ]
     },
     "execution_count": 48,
=======
       "[6, 3, 6]"
      ]
     },
     "execution_count": 49,
>>>>>>> 1b4d1aca249ad61bd70e607bd6e374ac879746f5
     "metadata": {},
     "output_type": "execute_result"
    }
   ],
   "source": [
    "num_rdd.takeSample(True, 3)"
   ]
  },
  {
   "cell_type": "markdown",
   "metadata": {},
   "source": [
    "## DataFrame DF\n",
    "Column-oriented data organization --> make things easier to understand\n",
    "\n",
    "do this for the following exercises:\n",
    "\n",
    "```\n",
    "hdfs dfs -mkdir /tmp\n",
    "hdfs dfs -copyFromLocal authors.json /tmp\n",
    "hdfs dfs -copyFromLocal authors_missing.json /tmp\n",
    "```\n",
    "\n"
   ]
  },
  {
   "cell_type": "code",
<<<<<<< HEAD
   "execution_count": 49,
=======
   "execution_count": 50,
>>>>>>> 1b4d1aca249ad61bd70e607bd6e374ac879746f5
   "metadata": {},
   "outputs": [],
   "source": [
    "# must create sparksession from sc to avoid this error: \n",
    "# 'PipelinedRDD' object has no attribute 'toDF' in PySpark\n",
    "\n",
    "ss = SparkSession(sc)"
   ]
  },
  {
   "cell_type": "code",
<<<<<<< HEAD
   "execution_count": 50,
=======
   "execution_count": 51,
>>>>>>> 1b4d1aca249ad61bd70e607bd6e374ac879746f5
   "metadata": {},
   "outputs": [],
   "source": [
    "colors = ['yellow', 'black', 'white', 'blue', 'green', 'brown', 'pink']"
   ]
  },
  {
   "cell_type": "code",
<<<<<<< HEAD
   "execution_count": 51,
=======
   "execution_count": 53,
>>>>>>> 1b4d1aca249ad61bd70e607bd6e374ac879746f5
   "metadata": {},
   "outputs": [],
   "source": [
    "color_df = sc.parallelize(colors).map(lambda x: (x, len(x))).toDF(['color', 'length'])"
   ]
  },
  {
   "cell_type": "code",
<<<<<<< HEAD
   "execution_count": 52,
=======
   "execution_count": 54,
>>>>>>> 1b4d1aca249ad61bd70e607bd6e374ac879746f5
   "metadata": {},
   "outputs": [
    {
     "name": "stdout",
     "output_type": "stream",
     "text": [
      "+------+------+\n",
      "| color|length|\n",
      "+------+------+\n",
      "|yellow|     6|\n",
      "| black|     5|\n",
      "| white|     5|\n",
      "|  blue|     4|\n",
      "| green|     5|\n",
      "| brown|     5|\n",
      "|  pink|     4|\n",
      "+------+------+\n",
      "\n"
     ]
    }
   ],
   "source": [
    "color_df.show()"
   ]
  },
  {
   "cell_type": "markdown",
   "metadata": {},
   "source": [
    "## Load data from json -- remember to do this hdfs dfs -copyFromLocal authors.json /tmp/authors.json\n",
    "\n",
    "sqlContext = SQLContext(sc)\n",
    "df = sqlContext.read.json('/tmp/authors.json')\n",
    "df.show()"
   ]
  },
  {
   "cell_type": "markdown",
   "metadata": {},
   "source": [
    "## DataFrame Operations"
   ]
  },
  {
   "cell_type": "code",
<<<<<<< HEAD
   "execution_count": 53,
=======
   "execution_count": 55,
>>>>>>> 1b4d1aca249ad61bd70e607bd6e374ac879746f5
   "metadata": {},
   "outputs": [
    {
     "data": {
      "text/plain": [
       "['yellow', 'black', 'white', 'blue', 'green', 'brown', 'pink']"
      ]
     },
<<<<<<< HEAD
     "execution_count": 53,
=======
     "execution_count": 55,
>>>>>>> 1b4d1aca249ad61bd70e607bd6e374ac879746f5
     "metadata": {},
     "output_type": "execute_result"
    }
   ],
   "source": [
    "colors"
   ]
  },
  {
   "cell_type": "code",
<<<<<<< HEAD
   "execution_count": 54,
=======
   "execution_count": 56,
>>>>>>> 1b4d1aca249ad61bd70e607bd6e374ac879746f5
   "metadata": {},
   "outputs": [
    {
     "data": {
      "text/plain": [
       "DataFrame[color: string, length: bigint]"
      ]
     },
<<<<<<< HEAD
     "execution_count": 54,
=======
     "execution_count": 56,
>>>>>>> 1b4d1aca249ad61bd70e607bd6e374ac879746f5
     "metadata": {},
     "output_type": "execute_result"
    }
   ],
   "source": [
    "color_df"
   ]
  },
  {
   "cell_type": "code",
<<<<<<< HEAD
   "execution_count": 55,
=======
   "execution_count": 57,
>>>>>>> 1b4d1aca249ad61bd70e607bd6e374ac879746f5
   "metadata": {},
   "outputs": [
    {
     "data": {
      "text/plain": [
       "[('color', 'string'), ('length', 'bigint')]"
      ]
     },
<<<<<<< HEAD
     "execution_count": 55,
=======
     "execution_count": 57,
>>>>>>> 1b4d1aca249ad61bd70e607bd6e374ac879746f5
     "metadata": {},
     "output_type": "execute_result"
    }
   ],
   "source": [
    "color_df.dtypes"
   ]
  },
  {
   "cell_type": "code",
<<<<<<< HEAD
   "execution_count": 56,
=======
   "execution_count": 58,
>>>>>>> 1b4d1aca249ad61bd70e607bd6e374ac879746f5
   "metadata": {},
   "outputs": [
    {
     "data": {
      "text/plain": [
       "7"
      ]
     },
<<<<<<< HEAD
     "execution_count": 56,
=======
     "execution_count": 58,
>>>>>>> 1b4d1aca249ad61bd70e607bd6e374ac879746f5
     "metadata": {},
     "output_type": "execute_result"
    }
   ],
   "source": [
    "color_df.count()"
   ]
  },
  {
   "cell_type": "code",
<<<<<<< HEAD
   "execution_count": 57,
=======
   "execution_count": 59,
>>>>>>> 1b4d1aca249ad61bd70e607bd6e374ac879746f5
   "metadata": {},
   "outputs": [
    {
     "name": "stdout",
     "output_type": "stream",
     "text": [
      "+------+------+\n",
      "| color|length|\n",
      "+------+------+\n",
      "|yellow|     6|\n",
      "| black|     5|\n",
      "| white|     5|\n",
      "|  blue|     4|\n",
      "| green|     5|\n",
      "| brown|     5|\n",
      "|  pink|     4|\n",
      "+------+------+\n",
      "\n"
     ]
    }
   ],
   "source": [
    "color_df.show()"
   ]
  },
  {
   "cell_type": "code",
<<<<<<< HEAD
   "execution_count": 58,
=======
   "execution_count": 60,
>>>>>>> 1b4d1aca249ad61bd70e607bd6e374ac879746f5
   "metadata": {},
   "outputs": [
    {
     "data": {
      "text/plain": [
       "['color', 'length']"
      ]
     },
<<<<<<< HEAD
     "execution_count": 58,
=======
     "execution_count": 60,
>>>>>>> 1b4d1aca249ad61bd70e607bd6e374ac879746f5
     "metadata": {},
     "output_type": "execute_result"
    }
   ],
   "source": [
    "color_df.columns"
   ]
  },
  {
   "cell_type": "code",
<<<<<<< HEAD
   "execution_count": 59,
=======
   "execution_count": 61,
>>>>>>> 1b4d1aca249ad61bd70e607bd6e374ac879746f5
   "metadata": {},
   "outputs": [
    {
     "name": "stdout",
     "output_type": "stream",
     "text": [
      "+------+\n",
      "| color|\n",
      "+------+\n",
      "|yellow|\n",
      "| black|\n",
      "| white|\n",
      "|  blue|\n",
      "| green|\n",
      "| brown|\n",
      "|  pink|\n",
      "+------+\n",
      "\n"
     ]
    }
   ],
   "source": [
    "color_df.drop('length').show()"
   ]
  },
  {
   "cell_type": "code",
<<<<<<< HEAD
   "execution_count": 60,
=======
   "execution_count": 62,
>>>>>>> 1b4d1aca249ad61bd70e607bd6e374ac879746f5
   "metadata": {},
   "outputs": [
    {
     "data": {
      "text/plain": [
       "'{\"color\":\"yellow\",\"length\":6}'"
      ]
     },
<<<<<<< HEAD
     "execution_count": 60,
=======
     "execution_count": 62,
>>>>>>> 1b4d1aca249ad61bd70e607bd6e374ac879746f5
     "metadata": {},
     "output_type": "execute_result"
    }
   ],
   "source": [
    "color_df.toJSON().first()"
   ]
  },
  {
   "cell_type": "code",
<<<<<<< HEAD
   "execution_count": 64,
   "metadata": {},
   "outputs": [
    {
     "data": {
      "text/plain": [
       "['{\"color\":\"yellow\",\"length\":6}',\n",
       " '{\"color\":\"black\",\"length\":5}',\n",
       " '{\"color\":\"white\",\"length\":5}',\n",
       " '{\"color\":\"blue\",\"length\":4}',\n",
       " '{\"color\":\"green\",\"length\":5}',\n",
       " '{\"color\":\"brown\",\"length\":5}',\n",
       " '{\"color\":\"pink\",\"length\":4}']"
      ]
     },
     "execution_count": 64,
     "metadata": {},
     "output_type": "execute_result"
    }
   ],
   "source": [
    "color_df.toJSON().collect()"
   ]
  },
  {
   "cell_type": "code",
   "execution_count": 65,
=======
   "execution_count": 63,
>>>>>>> 1b4d1aca249ad61bd70e607bd6e374ac879746f5
   "metadata": {},
   "outputs": [
    {
     "name": "stdout",
     "output_type": "stream",
     "text": [
      "+----------+\n",
      "|mid_length|\n",
      "+----------+\n",
      "|     black|\n",
      "|     white|\n",
      "|      blue|\n",
      "|     green|\n",
      "|     brown|\n",
      "|      pink|\n",
      "+----------+\n",
      "\n"
     ]
    }
   ],
   "source": [
    "color_df.filter(color_df.length.between(4,5)).select(color_df.color.alias('mid_length')).show()"
   ]
  },
  {
   "cell_type": "code",
<<<<<<< HEAD
   "execution_count": 66,
=======
   "execution_count": 64,
>>>>>>> 1b4d1aca249ad61bd70e607bd6e374ac879746f5
   "metadata": {},
   "outputs": [
    {
     "name": "stdout",
     "output_type": "stream",
     "text": [
      "+------+------+\n",
      "| color|length|\n",
      "+------+------+\n",
      "|yellow|     6|\n",
      "| black|     5|\n",
      "| green|     5|\n",
      "| brown|     5|\n",
      "+------+------+\n",
      "\n"
     ]
    }
   ],
   "source": [
    "color_df.filter(color_df.length > 4).filter(color_df[0] != 'white').show()"
   ]
  },
  {
   "cell_type": "code",
<<<<<<< HEAD
   "execution_count": 67,
=======
   "execution_count": 65,
>>>>>>> 1b4d1aca249ad61bd70e607bd6e374ac879746f5
   "metadata": {},
   "outputs": [
    {
     "name": "stdout",
     "output_type": "stream",
     "text": [
      "+------+------+\n",
      "| color|length|\n",
      "+------+------+\n",
      "| black|     5|\n",
      "|  blue|     4|\n",
      "| brown|     5|\n",
      "| green|     5|\n",
      "|  pink|     4|\n",
      "| white|     5|\n",
      "|yellow|     6|\n",
      "+------+------+\n",
      "\n"
     ]
    }
   ],
   "source": [
    "color_df.sort('color').show()"
   ]
  },
  {
   "cell_type": "code",
<<<<<<< HEAD
   "execution_count": 68,
=======
   "execution_count": 66,
>>>>>>> 1b4d1aca249ad61bd70e607bd6e374ac879746f5
   "metadata": {},
   "outputs": [
    {
     "name": "stdout",
     "output_type": "stream",
     "text": [
      "+------+------+\n",
      "| color|length|\n",
      "+------+------+\n",
      "|yellow|     6|\n",
      "| white|     5|\n",
      "| green|     5|\n",
      "| brown|     5|\n",
      "| black|     5|\n",
      "+------+------+\n",
      "\n"
     ]
    }
   ],
   "source": [
    "color_df.filter(color_df['length'] > 4).sort('length', 'color', ascending=False).show()"
   ]
  },
  {
   "cell_type": "code",
<<<<<<< HEAD
   "execution_count": 69,
=======
   "execution_count": 67,
>>>>>>> 1b4d1aca249ad61bd70e607bd6e374ac879746f5
   "metadata": {},
   "outputs": [
    {
     "data": {
      "text/plain": [
       "[Row(color='blue', length=4),\n",
       " Row(color='pink', length=4),\n",
       " Row(color='black', length=5),\n",
       " Row(color='brown', length=5)]"
      ]
     },
<<<<<<< HEAD
     "execution_count": 69,
=======
     "execution_count": 67,
>>>>>>> 1b4d1aca249ad61bd70e607bd6e374ac879746f5
     "metadata": {},
     "output_type": "execute_result"
    }
   ],
   "source": [
    "color_df.orderBy('length', 'color').take(4)"
   ]
  },
  {
   "cell_type": "code",
<<<<<<< HEAD
   "execution_count": 70,
=======
   "execution_count": 56,
>>>>>>> 1b4d1aca249ad61bd70e607bd6e374ac879746f5
   "metadata": {},
   "outputs": [
    {
     "name": "stdout",
     "output_type": "stream",
     "text": [
      "+------+------+\n",
      "| color|length|\n",
      "+------+------+\n",
      "|yellow|     6|\n",
      "| black|     5|\n",
      "| brown|     5|\n",
      "| green|     5|\n",
      "| white|     5|\n",
      "|  blue|     4|\n",
      "|  pink|     4|\n",
      "+------+------+\n",
      "\n"
     ]
    }
   ],
   "source": [
    "color_df.sort(color_df.length.desc(), color_df.color.asc()).show()"
   ]
  },
  {
   "cell_type": "code",
<<<<<<< HEAD
   "execution_count": 71,
=======
   "execution_count": 57,
>>>>>>> 1b4d1aca249ad61bd70e607bd6e374ac879746f5
   "metadata": {},
   "outputs": [
    {
     "name": "stdout",
     "output_type": "stream",
     "text": [
      "+------+-----+\n",
      "|length|count|\n",
      "+------+-----+\n",
      "|     6|    1|\n",
      "|     5|    4|\n",
      "|     4|    2|\n",
      "+------+-----+\n",
      "\n"
     ]
    }
   ],
   "source": [
    "color_df.groupBy('length').count().show()"
   ]
  },
  {
   "cell_type": "code",
<<<<<<< HEAD
   "execution_count": 74,
=======
   "execution_count": 68,
>>>>>>> 1b4d1aca249ad61bd70e607bd6e374ac879746f5
   "metadata": {},
   "outputs": [
    {
     "name": "stdout",
     "output_type": "stream",
     "text": [
      "+----------+---------+\n",
      "|first_name|last_name|\n",
      "+----------+---------+\n",
      "|      Mark|    Twain|\n",
      "|   Charles|  Dickens|\n",
      "|      null|    Hardy|\n",
      "+----------+---------+\n",
      "\n"
     ]
    }
   ],
   "source": [
    "## Load file\n",
    "df1 = ss.read.json('/tmp/authors_missing.json')\n",
    "df1.show()"
   ]
  },
  {
   "cell_type": "code",
<<<<<<< HEAD
   "execution_count": 75,
=======
   "execution_count": 69,
>>>>>>> 1b4d1aca249ad61bd70e607bd6e374ac879746f5
   "metadata": {},
   "outputs": [
    {
     "name": "stdout",
     "output_type": "stream",
     "text": [
      "+----------+---------+\n",
      "|first_name|last_name|\n",
      "+----------+---------+\n",
      "|      Mark|    Twain|\n",
      "|   Charles|  Dickens|\n",
      "+----------+---------+\n",
      "\n"
     ]
    }
   ],
   "source": [
    "df2 = df1.dropna()\n",
    "df2.show()"
   ]
  },
  {
   "cell_type": "markdown",
   "metadata": {},
   "source": [
    "## Example from Airline Performance data\n",
    "\n",
    "Need to prepare airline traffic data by running the following command at `cisc-525-util` directory\n",
    "\n",
    "```\n",
    "cd ~/cisc525/cisc-525-util\n",
    "./prepare-hadoop-data.bash\n",
    "```"
   ]
  },
  {
   "cell_type": "code",
<<<<<<< HEAD
   "execution_count": 76,
=======
   "execution_count": 70,
>>>>>>> 1b4d1aca249ad61bd70e607bd6e374ac879746f5
   "metadata": {},
   "outputs": [],
   "source": [
    "spark = SparkSession.builder.appName(\"performance-app\").config(\"spark.config.option\", \"value\").getOrCreate()"
   ]
  },
  {
   "cell_type": "code",
<<<<<<< HEAD
   "execution_count": 77,
=======
   "execution_count": 71,
>>>>>>> 1b4d1aca249ad61bd70e607bd6e374ac879746f5
   "metadata": {},
   "outputs": [],
   "source": [
    "schema = StructType([\\\n",
    "                     StructField('Year', IntegerType(), True),\\\n",
    "                     StructField('Month', IntegerType(), True),\\\n",
    "                     StructField('DayOfMonth', IntegerType(), True),\\\n",
    "                     StructField('DayOfWeek', IntegerType(), True),\\\n",
    "                     StructField('DepTime', IntegerType(), True),\\\n",
    "                     StructField('CRSDepTime', IntegerType(), True),\\\n",
    "                     StructField('ArrTime', IntegerType(), True),\\\n",
    "                     StructField('CRSArrTime', IntegerType(), True),\\\n",
    "                     StructField('UniqueCarrier', StringType(), True),\\\n",
    "                     StructField('FlightNum', IntegerType(), True),\\\n",
    "                     StructField('TailNum', StringType(), True),\\\n",
    "                     StructField('ActualElapsedTime', StringType(), True),\\\n",
    "                     StructField('CRSElapsedTime', StringType(), True),\\\n",
    "                     StructField('AirTime', StringType(), True),\\\n",
    "                     StructField('ArrDelay', StringType(), True),\\\n",
    "                     StructField('DepDelay', IntegerType(), True),\\\n",
    "                     StructField('Origin', StringType(), True),\\\n",
    "                     StructField('Dest', StringType(), True),\\\n",
    "                     StructField('Distance', StringType(), True),\\\n",
    "                     StructField('TaxiIn', StringType(), True),\\\n",
    "                    ])"
   ]
  },
  {
   "cell_type": "code",
<<<<<<< HEAD
   "execution_count": 78,
=======
   "execution_count": 72,
>>>>>>> 1b4d1aca249ad61bd70e607bd6e374ac879746f5
   "metadata": {},
   "outputs": [],
   "source": [
    "year = 'hdfs://localhost:9000/user/student/airline/1987.csv'"
   ]
  },
  {
   "cell_type": "code",
<<<<<<< HEAD
   "execution_count": 79,
=======
   "execution_count": 73,
>>>>>>> 1b4d1aca249ad61bd70e607bd6e374ac879746f5
   "metadata": {},
   "outputs": [],
   "source": [
    "df = spark.read.format('csv').option('header', 'true').schema(schema).load(year)"
   ]
  },
  {
   "cell_type": "code",
<<<<<<< HEAD
   "execution_count": 80,
=======
   "execution_count": 74,
>>>>>>> 1b4d1aca249ad61bd70e607bd6e374ac879746f5
   "metadata": {
    "scrolled": false
   },
   "outputs": [
    {
     "name": "stdout",
     "output_type": "stream",
     "text": [
      "+----+-----+----------+---------+-------+----------+-------+----------+-------------+---------+-------+-----------------+--------------+-------+--------+--------+------+----+--------+------+\n",
      "|Year|Month|DayOfMonth|DayOfWeek|DepTime|CRSDepTime|ArrTime|CRSArrTime|UniqueCarrier|FlightNum|TailNum|ActualElapsedTime|CRSElapsedTime|AirTime|ArrDelay|DepDelay|Origin|Dest|Distance|TaxiIn|\n",
      "+----+-----+----------+---------+-------+----------+-------+----------+-------------+---------+-------+-----------------+--------------+-------+--------+--------+------+----+--------+------+\n",
      "|1987|   10|        14|        3|    741|       730|    912|       849|           PS|     1451|     NA|               91|            79|     NA|      23|      11|   SAN| SFO|     447|    NA|\n",
      "|1987|   10|        15|        4|    729|       730|    903|       849|           PS|     1451|     NA|               94|            79|     NA|      14|      -1|   SAN| SFO|     447|    NA|\n",
      "|1987|   10|        17|        6|    741|       730|    918|       849|           PS|     1451|     NA|               97|            79|     NA|      29|      11|   SAN| SFO|     447|    NA|\n",
      "|1987|   10|        18|        7|    729|       730|    847|       849|           PS|     1451|     NA|               78|            79|     NA|      -2|      -1|   SAN| SFO|     447|    NA|\n",
      "|1987|   10|        19|        1|    749|       730|    922|       849|           PS|     1451|     NA|               93|            79|     NA|      33|      19|   SAN| SFO|     447|    NA|\n",
      "|1987|   10|        21|        3|    728|       730|    848|       849|           PS|     1451|     NA|               80|            79|     NA|      -1|      -2|   SAN| SFO|     447|    NA|\n",
      "|1987|   10|        22|        4|    728|       730|    852|       849|           PS|     1451|     NA|               84|            79|     NA|       3|      -2|   SAN| SFO|     447|    NA|\n",
      "|1987|   10|        23|        5|    731|       730|    902|       849|           PS|     1451|     NA|               91|            79|     NA|      13|       1|   SAN| SFO|     447|    NA|\n",
      "|1987|   10|        24|        6|    744|       730|    908|       849|           PS|     1451|     NA|               84|            79|     NA|      19|      14|   SAN| SFO|     447|    NA|\n",
      "|1987|   10|        25|        7|    729|       730|    851|       849|           PS|     1451|     NA|               82|            79|     NA|       2|      -1|   SAN| SFO|     447|    NA|\n",
      "|1987|   10|        26|        1|    735|       730|    904|       849|           PS|     1451|     NA|               89|            79|     NA|      15|       5|   SAN| SFO|     447|    NA|\n",
      "|1987|   10|        28|        3|    741|       725|    919|       855|           PS|     1451|     NA|               98|            90|     NA|      24|      16|   SAN| SFO|     447|    NA|\n",
      "|1987|   10|        29|        4|    742|       725|    906|       855|           PS|     1451|     NA|               84|            90|     NA|      11|      17|   SAN| SFO|     447|    NA|\n",
      "|1987|   10|        31|        6|    726|       725|    848|       855|           PS|     1451|     NA|               82|            90|     NA|      -7|       1|   SAN| SFO|     447|    NA|\n",
      "|1987|   10|         1|        4|    936|       915|   1035|      1001|           PS|     1451|     NA|               59|            46|     NA|      34|      21|   SFO| RNO|     192|    NA|\n",
      "|1987|   10|         2|        5|    918|       915|   1017|      1001|           PS|     1451|     NA|               59|            46|     NA|      16|       3|   SFO| RNO|     192|    NA|\n",
      "|1987|   10|         3|        6|    928|       915|   1037|      1001|           PS|     1451|     NA|               69|            46|     NA|      36|      13|   SFO| RNO|     192|    NA|\n",
      "|1987|   10|         4|        7|    914|       915|   1003|      1001|           PS|     1451|     NA|               49|            46|     NA|       2|      -1|   SFO| RNO|     192|    NA|\n",
      "|1987|   10|         5|        1|   1042|       915|   1129|      1001|           PS|     1451|     NA|               47|            46|     NA|      88|      87|   SFO| RNO|     192|    NA|\n",
      "|1987|   10|         6|        2|    934|       915|   1024|      1001|           PS|     1451|     NA|               50|            46|     NA|      23|      19|   SFO| RNO|     192|    NA|\n",
      "+----+-----+----------+---------+-------+----------+-------+----------+-------------+---------+-------+-----------------+--------------+-------+--------+--------+------+----+--------+------+\n",
      "only showing top 20 rows\n",
      "\n"
     ]
    }
   ],
   "source": [
    "df.show()"
   ]
  },
  {
   "cell_type": "code",
<<<<<<< HEAD
   "execution_count": 81,
=======
   "execution_count": 75,
>>>>>>> 1b4d1aca249ad61bd70e607bd6e374ac879746f5
   "metadata": {},
   "outputs": [
    {
     "name": "stdout",
     "output_type": "stream",
     "text": [
      "root\n",
      " |-- Year: integer (nullable = true)\n",
      " |-- Month: integer (nullable = true)\n",
      " |-- DayOfMonth: integer (nullable = true)\n",
      " |-- DayOfWeek: integer (nullable = true)\n",
      " |-- DepTime: integer (nullable = true)\n",
      " |-- CRSDepTime: integer (nullable = true)\n",
      " |-- ArrTime: integer (nullable = true)\n",
      " |-- CRSArrTime: integer (nullable = true)\n",
      " |-- UniqueCarrier: string (nullable = true)\n",
      " |-- FlightNum: integer (nullable = true)\n",
      " |-- TailNum: string (nullable = true)\n",
      " |-- ActualElapsedTime: string (nullable = true)\n",
      " |-- CRSElapsedTime: string (nullable = true)\n",
      " |-- AirTime: string (nullable = true)\n",
      " |-- ArrDelay: string (nullable = true)\n",
      " |-- DepDelay: integer (nullable = true)\n",
      " |-- Origin: string (nullable = true)\n",
      " |-- Dest: string (nullable = true)\n",
      " |-- Distance: string (nullable = true)\n",
      " |-- TaxiIn: string (nullable = true)\n",
      "\n"
     ]
    }
   ],
   "source": [
    "df.printSchema()"
   ]
  },
  {
   "cell_type": "code",
<<<<<<< HEAD
   "execution_count": 82,
=======
   "execution_count": 76,
>>>>>>> 1b4d1aca249ad61bd70e607bd6e374ac879746f5
   "metadata": {},
   "outputs": [
    {
     "name": "stdout",
     "output_type": "stream",
     "text": [
      "+-------------+------+\n",
      "|uniquecarrier| count|\n",
      "+-------------+------+\n",
      "|           UA|152624|\n",
      "|           EA|108776|\n",
      "|           PI|116482|\n",
      "|           PS| 41706|\n",
      "|           AA|165121|\n",
      "|           NW|108273|\n",
      "|           HP| 45399|\n",
      "|           TW| 69650|\n",
      "|           DL|185813|\n",
      "|           US| 94814|\n",
      "|           AS| 21406|\n",
      "|           CO|123002|\n",
      "|       PA (1)| 16785|\n",
      "|           WN| 61975|\n",
      "+-------------+------+\n",
      "\n"
     ]
    }
   ],
   "source": [
    "df.groupBy('uniquecarrier').count().show()"
   ]
  },
  {
   "cell_type": "code",
<<<<<<< HEAD
   "execution_count": 83,
=======
   "execution_count": 77,
>>>>>>> 1b4d1aca249ad61bd70e607bd6e374ac879746f5
   "metadata": {},
   "outputs": [
    {
     "name": "stdout",
     "output_type": "stream",
     "text": [
      "+------+-----+\n",
      "|origin|count|\n",
      "+------+-----+\n",
      "|   BGM|  545|\n",
      "|   MSY|10112|\n",
      "|   GEG| 2848|\n",
      "|   BUR| 6548|\n",
      "|   SNA| 7310|\n",
      "|   GTF| 1067|\n",
      "|   GRB|  659|\n",
      "|   IDA|  326|\n",
      "|   GRR| 2516|\n",
      "|   EUG| 1176|\n",
      "|   PSG|  169|\n",
      "|   GSO| 5796|\n",
      "|   PVD| 3043|\n",
      "|   MYR|  993|\n",
      "|   ISO|  367|\n",
      "|   OAK| 8393|\n",
      "|   MSN| 1117|\n",
      "|   FAR|  857|\n",
      "|   BTM|  179|\n",
      "|   SCC|  134|\n",
      "+------+-----+\n",
      "only showing top 20 rows\n",
      "\n"
     ]
    }
   ],
   "source": [
    "df.groupBy('origin').count().show()"
   ]
  },
  {
   "cell_type": "code",
   "execution_count": 78,
   "metadata": {},
   "outputs": [
    {
     "name": "stdout",
     "output_type": "stream",
     "text": [
      "+----+-----+\n",
      "|dest|count|\n",
      "+----+-----+\n",
      "| BGM|  535|\n",
      "| MSY|10039|\n",
      "| GEG| 2816|\n",
      "| BUR| 6502|\n",
      "| SNA| 7307|\n",
      "| GTF| 1052|\n",
      "| GRB|  617|\n",
      "| IDA|  323|\n",
      "| GRR| 2435|\n",
      "| EUG| 1151|\n",
      "| PSG|  168|\n",
      "| PVD| 2944|\n",
      "| GSO| 5786|\n",
      "| MYR|  978|\n",
      "| ISO|  362|\n",
      "| OAK| 8383|\n",
      "| MSN| 1088|\n",
      "| FAR|  830|\n",
      "| BTM|  178|\n",
      "| SCC|  129|\n",
      "+----+-----+\n",
      "only showing top 20 rows\n",
      "\n"
     ]
    }
   ],
   "source": [
    "df.groupBy('dest').count().show()"
   ]
  },
  {
   "cell_type": "code",
<<<<<<< HEAD
   "execution_count": 84,
=======
   "execution_count": 79,
>>>>>>> 1b4d1aca249ad61bd70e607bd6e374ac879746f5
   "metadata": {},
   "outputs": [
    {
     "name": "stdout",
     "output_type": "stream",
     "text": [
      "+----+-----+\n",
      "|dest|count|\n",
      "+----+-----+\n",
      "| SFO| 4770|\n",
      "| DEN| 3698|\n",
      "| LAX| 3559|\n",
      "| ORD| 2310|\n",
      "| EWR| 2063|\n",
      "| ATL| 2052|\n",
      "| BOS| 1582|\n",
      "| PHX| 1556|\n",
      "| DFW| 1436|\n",
      "| SEA| 1373|\n",
      "| LGA| 1299|\n",
      "| IAH| 1180|\n",
      "| SAN| 1091|\n",
      "| DTW| 1075|\n",
      "| PHL| 1069|\n",
      "| STL| 1048|\n",
      "| LAS| 1039|\n",
      "| MIA| 1023|\n",
      "| PIT| 1006|\n",
      "| MSP|  923|\n",
      "+----+-----+\n",
      "only showing top 20 rows\n",
      "\n"
     ]
    }
   ],
   "source": [
    "# searching for delay that is greater than 40.\n",
    "df.filter(df['depdelay'] > 40).groupBy('dest').count().orderBy(desc('count')).show()"
   ]
  },
  {
   "cell_type": "code",
<<<<<<< HEAD
   "execution_count": 85,
=======
   "execution_count": 80,
>>>>>>> 1b4d1aca249ad61bd70e607bd6e374ac879746f5
   "metadata": {},
   "outputs": [
    {
     "name": "stdout",
     "output_type": "stream",
     "text": [
      "+-------------+------+----+\n",
      "|uniquecarrier|origin|dest|\n",
      "+-------------+------+----+\n",
      "|           US|   ABE| PIT|\n",
      "|           US|   ABE| PIT|\n",
      "|           US|   ABE| PIT|\n",
      "|           US|   ABE| PIT|\n",
      "|           US|   ABE| PIT|\n",
      "|           US|   ABE| PIT|\n",
      "|           US|   ABE| PIT|\n",
      "|           US|   ABE| PIT|\n",
      "|           US|   ABE| PIT|\n",
      "|           US|   ABE| PIT|\n",
      "|           US|   ABE| PIT|\n",
      "|           US|   ABE| PIT|\n",
      "|           US|   ABE| PIT|\n",
      "|           US|   ABE| PIT|\n",
      "|           US|   ABE| PIT|\n",
      "|           US|   ABE| PIT|\n",
      "|           US|   ABE| PIT|\n",
      "|           US|   ABE| PIT|\n",
      "|           US|   ABE| PIT|\n",
      "|           US|   ABE| PIT|\n",
      "+-------------+------+----+\n",
      "only showing top 20 rows\n",
      "\n"
     ]
    }
   ],
   "source": [
    "df.select('uniquecarrier', 'origin', 'dest').orderBy('origin').show()"
   ]
  },
  {
   "cell_type": "code",
<<<<<<< HEAD
   "execution_count": 86,
   "metadata": {},
   "outputs": [
    {
     "data": {
      "text/plain": [
       "1311826"
      ]
     },
     "execution_count": 86,
     "metadata": {},
     "output_type": "execute_result"
    }
   ],
   "source": [
    "df.select('uniquecarrier', 'origin', 'dest').orderBy('origin').count()"
   ]
  },
  {
   "cell_type": "code",
   "execution_count": 88,
=======
   "execution_count": 81,
>>>>>>> 1b4d1aca249ad61bd70e607bd6e374ac879746f5
   "metadata": {},
   "outputs": [
    {
     "name": "stdout",
     "output_type": "stream",
     "text": [
      "+----+-----+----------+---------+-------+----------+-------+----------+-------------+---------+-------+-----------------+--------------+-------+--------+--------+------+----+--------+------+\n",
      "|Year|Month|DayOfMonth|DayOfWeek|DepTime|CRSDepTime|ArrTime|CRSArrTime|UniqueCarrier|FlightNum|TailNum|ActualElapsedTime|CRSElapsedTime|AirTime|ArrDelay|DepDelay|Origin|Dest|Distance|TaxiIn|\n",
      "+----+-----+----------+---------+-------+----------+-------+----------+-------------+---------+-------+-----------------+--------------+-------+--------+--------+------+----+--------+------+\n",
      "|1987|   10|         1|        4|   1029|      1030|   1421|      1416|           UA|        1|     NA|              532|           526|     NA|       5|      -1|   ORD| HNL|    4243|    NA|\n",
      "|1987|   10|         2|        5|   1029|      1030|   1355|      1416|           UA|        1|     NA|              506|           526|     NA|     -21|      -1|   ORD| HNL|    4243|    NA|\n",
      "|1987|   10|         3|        6|   1030|      1030|   1345|      1416|           UA|        1|     NA|              495|           526|     NA|     -31|       0|   ORD| HNL|    4243|    NA|\n",
      "|1987|   10|         4|        7|   1027|      1030|   1337|      1416|           UA|        1|     NA|              490|           526|     NA|     -39|      -3|   ORD| HNL|    4243|    NA|\n",
      "|1987|   10|         5|        1|   1029|      1030|   1403|      1416|           UA|        1|     NA|              514|           526|     NA|     -13|      -1|   ORD| HNL|    4243|    NA|\n",
      "|1987|   10|         6|        2|   1026|      1030|   1415|      1416|           UA|        1|     NA|              529|           526|     NA|      -1|      -4|   ORD| HNL|    4243|    NA|\n",
      "|1987|   10|         7|        3|   1032|      1030|   1434|      1416|           UA|        1|     NA|              542|           526|     NA|      18|       2|   ORD| HNL|    4243|    NA|\n",
      "|1987|   10|         9|        5|   1028|      1030|   1434|      1416|           UA|        1|     NA|              546|           526|     NA|      18|      -2|   ORD| HNL|    4243|    NA|\n",
      "|1987|   10|        10|        6|   1028|      1030|   1416|      1416|           UA|        1|     NA|              528|           526|     NA|       0|      -2|   ORD| HNL|    4243|    NA|\n",
      "|1987|   10|        11|        7|   1030|      1030|   1358|      1416|           UA|        1|     NA|              508|           526|     NA|     -18|       0|   ORD| HNL|    4243|    NA|\n",
      "|1987|   10|        12|        1|   1029|      1030|   1409|      1416|           UA|        1|     NA|              520|           526|     NA|      -7|      -1|   ORD| HNL|    4243|    NA|\n",
      "|1987|   10|        13|        2|   1029|      1030|   1414|      1416|           UA|        1|     NA|              525|           526|     NA|      -2|      -1|   ORD| HNL|    4243|    NA|\n",
      "|1987|   10|        14|        3|   1030|      1030|   1424|      1416|           UA|        1|     NA|              534|           526|     NA|       8|       0|   ORD| HNL|    4243|    NA|\n",
      "|1987|   10|        16|        5|   1026|      1030|   1426|      1416|           UA|        1|     NA|              540|           526|     NA|      10|      -4|   ORD| HNL|    4243|    NA|\n",
      "|1987|   10|        17|        6|   1030|      1030|   1444|      1416|           UA|        1|     NA|              554|           526|     NA|      28|       0|   ORD| HNL|    4243|    NA|\n",
      "|1987|   10|        18|        7|   1028|      1030|   1428|      1416|           UA|        1|     NA|              540|           526|     NA|      12|      -2|   ORD| HNL|    4243|    NA|\n",
      "|1987|   10|        19|        1|   1030|      1030|   1420|      1416|           UA|        1|     NA|              530|           526|     NA|       4|       0|   ORD| HNL|    4243|    NA|\n",
      "|1987|   10|        20|        2|   1029|      1030|   1425|      1416|           UA|        1|     NA|              536|           526|     NA|       9|      -1|   ORD| HNL|    4243|    NA|\n",
      "|1987|   10|        21|        3|   1032|      1030|   1419|      1416|           UA|        1|     NA|              527|           526|     NA|       3|       2|   ORD| HNL|    4243|    NA|\n",
      "|1987|   10|        22|        4|   1029|      1030|   1441|      1416|           UA|        1|     NA|              552|           526|     NA|      25|      -1|   ORD| HNL|    4243|    NA|\n",
      "+----+-----+----------+---------+-------+----------+-------+----------+-------------+---------+-------+-----------------+--------------+-------+--------+--------+------+----+--------+------+\n",
      "only showing top 20 rows\n",
<<<<<<< HEAD
      "\n",
      "152624\n"
=======
      "\n"
>>>>>>> 1b4d1aca249ad61bd70e607bd6e374ac879746f5
     ]
    }
   ],
   "source": [
<<<<<<< HEAD
    "df.filter(df['uniquecarrier'] == 'UA').show()\n",
    "print(df.filter(df['uniquecarrier'] == 'UA').count())"
=======
    "df.filter(df['uniquecarrier'] == 'UA').show()"
>>>>>>> 1b4d1aca249ad61bd70e607bd6e374ac879746f5
   ]
  },
  {
   "cell_type": "code",
<<<<<<< HEAD
   "execution_count": 89,
=======
   "execution_count": 71,
>>>>>>> 1b4d1aca249ad61bd70e607bd6e374ac879746f5
   "metadata": {
    "scrolled": true
   },
   "outputs": [
    {
     "name": "stdout",
     "output_type": "stream",
     "text": [
      "+-------------+------------------+\n",
      "|uniquecarrier|     avg(depdelay)|\n",
      "+-------------+------------------+\n",
      "|           UA| 8.287704104887792|\n",
      "|           EA| 8.832762739602341|\n",
      "|           PI| 7.724536454582527|\n",
      "|           PS| 13.31959242658045|\n",
      "|           AA| 5.931756197713971|\n",
      "|           NW| 6.856916558873704|\n",
      "|         null|              null|\n",
      "|           HP| 6.196152731649689|\n",
      "|           TW| 7.098323271010277|\n",
      "|           DL|7.3701212477415705|\n",
      "|           US|  7.38329133841525|\n",
      "|           AS| 8.302911613420791|\n",
      "|           CO|12.620661609706707|\n",
      "|       PA (1)| 4.951404799228265|\n",
      "|           WN| 8.464397496087637|\n",
      "+-------------+------------------+\n",
      "\n"
     ]
    }
   ],
   "source": [
    "df.groupBy('uniquecarrier').mean('depdelay').show()"
   ]
  },
  {
   "cell_type": "code",
<<<<<<< HEAD
   "execution_count": 90,
=======
   "execution_count": 82,
>>>>>>> 1b4d1aca249ad61bd70e607bd6e374ac879746f5
   "metadata": {},
   "outputs": [],
   "source": [
    "df.cache\n",
    "df.createOrReplaceTempView('flights')\n",
    "spark.catalog.cacheTable('flights')"
   ]
  },
  {
   "cell_type": "code",
<<<<<<< HEAD
   "execution_count": 91,
=======
   "execution_count": 83,
>>>>>>> 1b4d1aca249ad61bd70e607bd6e374ac879746f5
   "metadata": {},
   "outputs": [
    {
     "name": "stdout",
     "output_type": "stream",
     "text": [
      "+-------------+------+----+--------+\n",
      "|uniquecarrier|origin|dest|depdelay|\n",
      "+-------------+------+----+--------+\n",
      "|           DL|   SLC| BZN|    1439|\n",
      "|           DL|   SLC| BZN|    1438|\n",
      "|           DL|   MLU| JAN|    1434|\n",
      "|           DL|   MSP| SLC|    1430|\n",
      "|           DL|   MSP| SLC|    1430|\n",
      "+-------------+------+----+--------+\n",
      "\n"
     ]
    }
   ],
   "source": [
    "spark.sql('select uniquecarrier, origin, dest, depdelay from flights where depdelay > 40 order by depdelay desc limit 5').show()"
   ]
  },
  {
   "cell_type": "code",
   "execution_count": 84,
   "metadata": {},
   "outputs": [
    {
     "name": "stdout",
     "output_type": "stream",
     "text": [
      "+-------------+------------------+\n",
      "|uniquecarrier|     avg(depdelay)|\n",
      "+-------------+------------------+\n",
      "|           UA| 8.221970486402904|\n",
      "|           EA| 8.470463415558335|\n",
      "|           PI| 7.704925723221266|\n",
      "|           PS|13.156366673216741|\n",
      "|           AA|5.8244254623052845|\n",
      "|           NW| 6.827586531935752|\n",
      "|         null|              null|\n",
      "|           HP| 6.140260378285434|\n",
      "|           TW| 7.008493347611155|\n",
      "|           DL|7.3328541322921605|\n",
      "|           US| 7.334582902906314|\n",
      "|           AS| 8.214370181164561|\n",
      "|           CO|12.443648002133724|\n",
      "|       PA (1)| 4.871985494106981|\n",
      "|           WN| 8.464397496087637|\n",
      "+-------------+------------------+\n",
      "\n"
     ]
    }
   ],
   "source": [
    "spark.sql('select uniquecarrier, avg(depdelay) from flights group by uniquecarrier').show()"
   ]
  },
  {
   "cell_type": "code",
   "execution_count": null,
   "metadata": {},
   "outputs": [],
   "source": []
  }
 ],
 "metadata": {
  "kernelspec": {
   "display_name": "Python 3",
   "language": "python",
   "name": "python3"
  },
  "language_info": {
   "codemirror_mode": {
    "name": "ipython",
    "version": 3
   },
   "file_extension": ".py",
   "mimetype": "text/x-python",
   "name": "python",
   "nbconvert_exporter": "python",
   "pygments_lexer": "ipython3",
   "version": "3.6.9"
  }
 },
 "nbformat": 4,
 "nbformat_minor": 2
}
